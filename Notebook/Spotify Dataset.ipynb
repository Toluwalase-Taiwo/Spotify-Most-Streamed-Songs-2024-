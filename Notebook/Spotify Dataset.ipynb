{
 "cells": [
  {
   "cell_type": "code",
   "execution_count": null,
   "id": "2d962391-15a0-4c59-ad6b-d49d24a3c44d",
   "metadata": {},
   "outputs": [],
   "source": [
    "#importing necessary libraries\n",
    "!pip install pandas\n",
    "import pandas as pd\n",
    "import numpy as np\n",
    "import matplotlib.pyplot as plt\n",
    "import seaborn as sns\n",
    "import warnings\n",
    "warnings.simplefilter(action='ignore', category=FutureWarning)\n",
    "!pip install missingno\n",
    "!pip install chardet"
   ]
  },
  {
   "cell_type": "code",
   "execution_count": null,
   "id": "c30cf70a-41bd-4803-b04d-214cbff92336",
   "metadata": {},
   "outputs": [],
   "source": [
    "#Use THE CHARDET library to detect the encoding of the dataset\n",
    "\n",
    "import chardet\n",
    "\n",
    "with open('Most Streamed Spotify Songs 2024.csv', 'rb') as file:\n",
    "    result = chardet.detect(file.read(10000))  # Check a sample of the file\n",
    "    print(result['encoding'])\n"
   ]
  },
  {
   "cell_type": "code",
   "execution_count": null,
   "id": "8d0922d2-1373-4849-a8ec-60dcbcaa39fa",
   "metadata": {},
   "outputs": [],
   "source": [
    "#Loading the dataset\n",
    "spotify_songs=pd.read_csv('Most Streamed Spotify Songs 2024.csv', encoding='latin-1')\n",
    "\n",
    "\n",
    "# Set pandas option to display all columns\n",
    "pd.set_option('display.max_columns', None)\n",
    "\n",
    "print(spotify_songs)\n"
   ]
  },
  {
   "cell_type": "code",
   "execution_count": null,
   "id": "3b22c4c8-75df-4735-8069-a2cfd27d1735",
   "metadata": {},
   "outputs": [],
   "source": [
    "#number of rows and columns\n",
    "spotify_songs.shape"
   ]
  },
  {
   "cell_type": "code",
   "execution_count": null,
   "id": "c243898f-aaaf-4040-bc4b-f6048ded7185",
   "metadata": {},
   "outputs": [],
   "source": [
    "#General information of the dataset \n",
    "spotify_songs.info()"
   ]
  },
  {
   "cell_type": "code",
   "execution_count": null,
   "id": "40b6f6fc-70b7-4cd0-a0e5-cea46482ab4a",
   "metadata": {},
   "outputs": [],
   "source": [
    "#checking the number of the columns\n",
    "spotify_songs.columns"
   ]
  },
  {
   "cell_type": "markdown",
   "id": "7b9748e4-aa55-4ccc-a122-8c6737ef43f8",
   "metadata": {},
   "source": [
    "## Data Cleaning"
   ]
  },
  {
   "cell_type": "code",
   "execution_count": null,
   "id": "e1bcad18-bb1b-43fd-83bf-bfff85cd660a",
   "metadata": {},
   "outputs": [],
   "source": [
    "#Handling missing data\n",
    "#Checking for total number of missing values in descending order\n",
    "spotify_songs.isnull().sum().sort_values(ascending=False)"
   ]
  },
  {
   "cell_type": "code",
   "execution_count": null,
   "id": "9797ad63-df48-427a-9f5e-93616143c78c",
   "metadata": {},
   "outputs": [],
   "source": [
    "\n",
    "import missingno as msno\n",
    "\n",
    "msno.bar(spotify_songs)\n",
    "plt.show()"
   ]
  },
  {
   "cell_type": "code",
   "execution_count": null,
   "id": "c99535aa-81ca-4ba3-be1f-13c94a401dbc",
   "metadata": {},
   "outputs": [],
   "source": [
    "#dropping irrelevant columns\n",
    "\n",
    "spotify_songs.drop('ISRC', axis = 1, inplace = True)\n",
    "spotify_songs.drop('TIDAL Popularity', axis=1, inplace = True)\n",
    "spotify_songs.drop('Soundcloud Streams', axis =1, inplace = True)\n",
    "\n",
    "spotify_songs.columns"
   ]
  },
  {
   "cell_type": "code",
   "execution_count": null,
   "id": "b1a4edd6-d445-4edf-a722-41aa7b69a506",
   "metadata": {},
   "outputs": [],
   "source": [
    "spotify_songs.isnull().sum().sort_values(ascending=False)"
   ]
  },
  {
   "cell_type": "code",
   "execution_count": null,
   "id": "27760399-f242-400b-a291-be6c0e6d4885",
   "metadata": {},
   "outputs": [],
   "source": [
    "#Removing duplicates\n",
    "\n",
    "spotify_songs.duplicated().sum()"
   ]
  },
  {
   "cell_type": "code",
   "execution_count": null,
   "id": "ad9576ec-ea5e-4b9a-aa34-0abfad93a02d",
   "metadata": {},
   "outputs": [],
   "source": [
    "spotify_songs = spotify_songs.drop_duplicates(keep = 'first')\n",
    "spotify_songs.duplicated().sum()"
   ]
  },
  {
   "cell_type": "code",
   "execution_count": null,
   "id": "042ba7e1-d4dc-4592-8f08-2132d4ad3132",
   "metadata": {},
   "outputs": [],
   "source": [
    "spotify_songs = spotify_songs.map(lambda x: x.replace(',', '') if isinstance(x, str) else x)\n",
    "spotify_songs.head(20)"
   ]
  },
  {
   "cell_type": "code",
   "execution_count": null,
   "id": "1acb4598-07bd-481d-b4d3-50ca0a9147b6",
   "metadata": {},
   "outputs": [],
   "source": [
    "#Converting Release Date to datetime format\n",
    "spotify_songs['Release Date'] = pd.to_datetime(spotify_songs['Release Date'], format = '%m/%d/%Y')\n",
    "\n",
    "spotify_songs['Year'] = spotify_songs['Release Date'].dt.year\n",
    "spotify_songs['Month'] = spotify_songs['Release Date'].dt.month"
   ]
  },
  {
   "cell_type": "code",
   "execution_count": null,
   "id": "1d4f0ce0-a761-4bc5-b7a1-c056ab688ad8",
   "metadata": {},
   "outputs": [],
   "source": [
    "#Mean Imputation to handle missing numerical values\n",
    "columns_to_impute = spotify_songs.columns[6:]\n",
    "\n",
    "# Convert the selected columns to numeric, coercing errors to NaN\n",
    "spotify_songs[columns_to_impute] = spotify_songs[columns_to_impute].apply(pd.to_numeric, errors='coerce')\n",
    "\n",
    "# Impute missing values with the mean for the selected columns\n",
    "spotify_songs[columns_to_impute] = spotify_songs[columns_to_impute].fillna(spotify_songs[columns_to_impute].mean())\n",
    "\n",
    "spotify_songs.replace([float('inf'), -float('inf')], pd.NA, inplace=True)\n",
    "\n",
    "\n",
    "# Print the count of missing values in each column\n",
    "print(spotify_songs.isnull().sum())\n"
   ]
  },
  {
   "cell_type": "code",
   "execution_count": null,
   "id": "e936c68c-927a-4c74-a601-b0787ddb9eaf",
   "metadata": {},
   "outputs": [],
   "source": [
    "spotify_songs.head(10)"
   ]
  },
  {
   "cell_type": "code",
   "execution_count": null,
   "id": "230fa414-1b57-4dc1-8a0a-2e1b4ef874b8",
   "metadata": {},
   "outputs": [],
   "source": [
    "spotify_songs['Release Date']"
   ]
  },
  {
   "cell_type": "code",
   "execution_count": null,
   "id": "ff0746a3-1523-460e-8f34-523b660c9c75",
   "metadata": {},
   "outputs": [],
   "source": [
    "#Statistical Summary of the dataset\n",
    "spotify_songs.describe()"
   ]
  },
  {
   "cell_type": "markdown",
   "id": "8f340008-b6a9-4750-86c8-b354009f676d",
   "metadata": {},
   "source": [
    "## Feature Engineering\n",
    "### From the dataset, we can extract columns related to track, artist, release date, Spotify streams, and popularity metrics"
   ]
  },
  {
   "cell_type": "code",
   "execution_count": null,
   "id": "f361d1fb-c36d-4f20-8b35-21f32eb35754",
   "metadata": {},
   "outputs": [],
   "source": [
    "#Data Transformation\n",
    "# Extract relevant columns\n",
    "features = spotify_songs[['Track', 'Album Name', 'Artist', 'Release Date', 'Spotify Streams', 'Spotify Popularity', \n",
    "               'YouTube Views', 'TikTok Views', 'Shazam Counts','Explicit Track','Year']]\n",
    "\n",
    "# Check the data types and null values\n",
    "features.info()"
   ]
  },
  {
   "cell_type": "markdown",
   "id": "72e51438-e05a-45a2-a90d-dc87965242c9",
   "metadata": {},
   "source": [
    "### Create New Features\n",
    "#### Streaming Velocity\n",
    "Calculating the streaming velocity (Spotify streams per year), compute the difference between the current year and the release year"
   ]
  },
  {
   "cell_type": "code",
   "execution_count": null,
   "id": "40aa3ed1-3190-4e32-9cc9-f6a77cb93032",
   "metadata": {},
   "outputs": [],
   "source": [
    "from datetime import datetime\n",
    "\n",
    "# Create an explicit copy of the DataFrame slice\n",
    "features = spotify_songs[['Track', 'Album Name', 'Artist', 'Release Date', 'Spotify Streams', \n",
    "               'Spotify Popularity', 'YouTube Views', 'TikTok Views', 'Shazam Counts','Explicit Track', 'Year']].copy()\n",
    "\n",
    "# Calculate the current year\n",
    "current_year = datetime.now().year\n",
    "\n",
    "\n",
    "# Calculate the number of years since the song was released\n",
    "features['Years Since Release'] = current_year - spotify_songs['Year'].copy()\n",
    "\n",
    "# Avoid division by zero for songs released this year\n",
    "features['Years Since Release'].replace(0, 1, inplace=True)\n",
    "\n",
    "# Calculate streaming velocity (Spotify Streams per year)\n",
    "features['Spotify Streaming Velocity'] = features['Spotify Streams'] / features['Years Since Release']\n",
    "\n",
    "features.replace([float('inf'), -float('inf')], pd.NA, inplace=True)\n",
    "\n",
    "\n",
    "# View the updated features\n",
    "features[['Track', 'Artist', 'Spotify Streams', 'Years Since Release', 'Spotify Streaming Velocity']].head(10)\n"
   ]
  },
  {
   "cell_type": "markdown",
   "id": "2eaf2f19-1e0a-46b4-978e-75d5a2f98402",
   "metadata": {},
   "source": [
    "### Cross-Platform Presence\n",
    "Creating a new feature for cross-platform presence by summing views across YouTube, TikTok, Shazam,"
   ]
  },
  {
   "cell_type": "code",
   "execution_count": null,
   "id": "44bbd4ad-77d7-4784-a4de-4d020ce6894a",
   "metadata": {},
   "outputs": [],
   "source": [
    "# Calculating cross-platform presence (total views and reach across YouTube, TikTok, and Shazam)\n",
    "features['Cross-Platform Presence'] = features['YouTube Views'] + features['TikTok Views'] + features['Shazam Counts']\n",
    "\n",
    "# View the updated features\n",
    "features[['Track', 'Artist', 'YouTube Views', 'TikTok Views', 'Shazam Counts', 'Cross-Platform Presence']].head(10)\n"
   ]
  },
  {
   "cell_type": "markdown",
   "id": "29275a64-aeb7-4965-af27-fd2255e5b519",
   "metadata": {},
   "source": [
    "### Data Aggregation\n",
    "a. Group by Artist\n",
    "Calculating the total streams, average popularity, and cross-platform reach for each artist:"
   ]
  },
  {
   "cell_type": "code",
   "execution_count": null,
   "id": "53d2cf21-10db-4886-8a21-77eeaaa2b9d3",
   "metadata": {},
   "outputs": [],
   "source": [
    "# Group by artist and calculate total streams, average popularity, and total cross-platform presence\n",
    "artist_agg = features.groupby('Artist').agg({'Spotify Streams': 'sum','Spotify Popularity': 'mean',\n",
    "                                             'Cross-Platform Presence': 'sum'}).reset_index()\n",
    "\n",
    "# View the aggregated data\n",
    "artist_agg.columns = ['Artist', 'Total Spotify Streams', 'Average Spotify Popularity', 'Total Cross-Platform Presence']\n",
    "artist_agg.head(10)"
   ]
  },
  {
   "cell_type": "code",
   "execution_count": null,
   "id": "1026fcf5-990f-47e5-93bd-af62dd31a776",
   "metadata": {},
   "outputs": [],
   "source": [
    "# Group by Album Name and calculate total streams, average popularity, and total cross-platform presence\n",
    "artist_agg = features.groupby('Album Name').agg({'Spotify Streams': 'sum','Spotify Popularity': 'mean',\n",
    "                                             'Cross-Platform Presence': 'sum'}).reset_index()\n",
    "\n",
    "# View the aggregated data\n",
    "artist_agg.columns = ['Album Name', 'Total Spotify Streams', 'Average Spotify Popularity', 'Total Cross-Platform Presence']\n",
    "artist_agg.head(10)"
   ]
  },
  {
   "cell_type": "code",
   "execution_count": null,
   "id": "1150212a-926d-4b9a-8509-06730351d6ce",
   "metadata": {},
   "outputs": [],
   "source": [
    "# Group by explicit content and calculate average streams and popularity\n",
    "\n",
    "explicit_agg = features.groupby('Explicit Track').agg({'Spotify Streams': 'mean','Spotify Popularity': 'mean'\n",
    "                                                      }).reset_index()\n",
    "# View the aggregated data\n",
    "explicit_agg.columns = ['Explicit Track', 'Average Spotify Streams', 'Average Spotify Popularity']\n",
    "explicit_agg.head()\n",
    "\n"
   ]
  },
  {
   "cell_type": "code",
   "execution_count": null,
   "id": "1b2ac6af-630c-4165-9e6d-68d8b62382b5",
   "metadata": {},
   "outputs": [],
   "source": [
    "\n",
    "Explicit_content= features.groupby('Explicit Track')['Spotify Streams'].mean()\n",
    "\n",
    "plt.pie(Explicit_content, labels= Explicit_content.index, autopct= '%1.1f%%', explode=[0.1, 0], shadow= True)\n",
    "\n",
    "plt.axis('equal')\n",
    "sns.set_style('darkgrid')\n",
    "plt.show()"
   ]
  },
  {
   "cell_type": "markdown",
   "id": "08784d20-04fb-4292-a613-c63db31cddcc",
   "metadata": {},
   "source": [
    "# Top 10 Most streamed Spotify Songs"
   ]
  },
  {
   "cell_type": "code",
   "execution_count": null,
   "id": "10dddc03-5f0a-4fef-9c53-5865da3d1859",
   "metadata": {},
   "outputs": [],
   "source": [
    "\n",
    "\n",
    "top_songs = features.sort_values(by='Spotify Streams', ascending=False).head(14)\n",
    "\n",
    "plt.figure(figsize=(10, 6))\n",
    "sns.barplot(x='Spotify Streams', y='Track', data= top_songs, palette=\"icefire\")\n",
    "\n",
    "plt.title('Top 10 Most Streamed Songs on Spotify')\n",
    "plt.xlabel('Spotify Streams')\n",
    "plt.ylabel('Track')\n",
    "plt.show()\n"
   ]
  },
  {
   "cell_type": "markdown",
   "id": "6e6c3b30-12ad-4131-aefa-b33c83ee71c8",
   "metadata": {},
   "source": [
    "## Top Artists by Total Streams"
   ]
  },
  {
   "cell_type": "code",
   "execution_count": null,
   "id": "4918dfb4-ea0b-40d8-9df4-43ff7b5fc134",
   "metadata": {},
   "outputs": [],
   "source": [
    "\n",
    "top_artists = features.groupby('Artist')[['Spotify Streams', 'YouTube Views']].sum().sort_values(by='Spotify Streams', \n",
    "        ascending=False).reset_index().head()\n",
    "\n",
    "plt.figure(figsize=(12, 6))\n",
    "top_artists_melted = top_artists.melt(id_vars=['Artist'], var_name='Platform', value_name='Streams')\n",
    "sns.barplot(x='Streams', y='Artist', hue='Platform', data=top_artists_melted, palette='Set2')\n",
    "plt.title('Top Artists by Total Streams (Spotify & YouTube)')\n",
    "plt.xlabel('Total Streams')\n",
    "plt.ylabel('Artist')\n",
    "plt.show()\n",
    "\n"
   ]
  },
  {
   "cell_type": "code",
   "execution_count": null,
   "id": "2f684b46-eccb-4c6f-8eae-c7fdc5fa8919",
   "metadata": {},
   "outputs": [],
   "source": [
    "# Group by 'Artist', sum the 'Spotify Streams' for each artist, and get the top 5 artists\n",
    "top_5_artists = features.groupby('Artist')['Spotify Streams'].sum().reset_index().sort_values(by='Spotify Streams', ascending=False).head(5)['Artist']\n",
    "\n",
    "# Filter the dataset to include only the top 5 artists\n",
    "filtered_features = features[features['Artist'].isin(top_5_artists)]\n",
    "\n",
    "# Group by 'Year' and 'Artist', then sum up 'Spotify Streams' for the top 5 artists\n",
    "artist_popularity = filtered_features.groupby(['Year', 'Artist'])['Spotify Streams'].sum().reset_index()\n",
    "\n",
    "# Plotting the artist popularity over time for the top 5 artists\n",
    "plt.figure(figsize=(12, 6))\n",
    "sns.lineplot(x='Year', y='Spotify Streams', hue='Artist', data=artist_popularity, marker='o')\n",
    "plt.title('Top 5 Artist Popularity Over Time on Spotify')\n",
    "plt.xlabel('Year')\n",
    "plt.ylabel('Spotify Streams')\n",
    "plt.xticks(rotation=45)\n",
    "plt.legend(loc='upper left')\n",
    "plt.show()\n"
   ]
  },
  {
   "cell_type": "code",
   "execution_count": null,
   "id": "1524fcc7-15f5-4c4b-89b0-59f56dca41dc",
   "metadata": {},
   "outputs": [],
   "source": []
  }
 ],
 "metadata": {
  "kernelspec": {
   "display_name": "Python 3 (ipykernel)",
   "language": "python",
   "name": "python3"
  },
  "language_info": {
   "codemirror_mode": {
    "name": "ipython",
    "version": 3
   },
   "file_extension": ".py",
   "mimetype": "text/x-python",
   "name": "python",
   "nbconvert_exporter": "python",
   "pygments_lexer": "ipython3",
   "version": "3.11.10"
  }
 },
 "nbformat": 4,
 "nbformat_minor": 5
}
